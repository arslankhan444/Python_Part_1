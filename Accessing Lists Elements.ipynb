{
 "cells": [
  {
   "cell_type": "code",
   "execution_count": 11,
   "metadata": {},
   "outputs": [
    {
     "name": "stdout",
     "output_type": "stream",
     "text": [
      "Enter Hours:45\n",
      "Enter the Rate:10.50\n",
      "498.75\n"
     ]
    }
   ],
   "source": [
    "hrs = input(\"Enter Hours:\")\n",
    "h = float(hrs)\n",
    "xx = input(\"Enter the Rate:\")\n",
    "x = float(xx)\n",
    "if h <= 40:\n",
    " \tprint( h  * x)\n",
    "elif h > 40:\n",
    "\tprint(40* x + (h-40)*1.5*x)"
   ]
  },
  {
   "cell_type": "code",
   "execution_count": 6,
   "metadata": {},
   "outputs": [
    {
     "name": "stdout",
     "output_type": "stream",
     "text": [
      "Enter Score: 0.6\n",
      "Please enter numerical numbers\n"
     ]
    }
   ],
   "source": [
    "score = input(\"Enter Score: \")\n",
    "try:\n",
    "    inp = raw_input(\"Enter a number between 0.0 and 1.0: \")\n",
    "    score = float(inp)\n",
    "    if (score >= 1.0):\n",
    "        print(\"You didn't follow instructions\")\n",
    "        exit()\n",
    "    elif (score >= 0.9):\n",
    "        print(\"A\")\n",
    "    elif (score >= 0.8):\n",
    "        print(\"B\")\n",
    "    elif (score >= 0.7):\n",
    "        print(\"C\")\n",
    "    elif (score >= 0.6):\n",
    "        print(\"D\")\n",
    "    else:\n",
    "        print(\"F\") \n",
    "except:\n",
    "    print(\"Please enter numerical numbers\")\n",
    "    exit()\n"
   ]
  },
  {
   "cell_type": "code",
   "execution_count": null,
   "metadata": {},
   "outputs": [],
   "source": []
  },
  {
   "cell_type": "code",
   "execution_count": null,
   "metadata": {},
   "outputs": [],
   "source": []
  },
  {
   "cell_type": "code",
   "execution_count": null,
   "metadata": {},
   "outputs": [],
   "source": []
  },
  {
   "cell_type": "code",
   "execution_count": null,
   "metadata": {},
   "outputs": [],
   "source": []
  }
 ],
 "metadata": {
  "kernelspec": {
   "display_name": "Python 3",
   "language": "python",
   "name": "python3"
  },
  "language_info": {
   "codemirror_mode": {
    "name": "ipython",
    "version": 3
   },
   "file_extension": ".py",
   "mimetype": "text/x-python",
   "name": "python",
   "nbconvert_exporter": "python",
   "pygments_lexer": "ipython3",
   "version": "3.7.3"
  }
 },
 "nbformat": 4,
 "nbformat_minor": 2
}
